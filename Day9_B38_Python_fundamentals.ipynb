{
 "cells": [
  {
   "cell_type": "code",
   "execution_count": 1,
   "metadata": {},
   "outputs": [],
   "source": [
    "#Introduction to Conditional Statements"
   ]
  },
  {
   "cell_type": "code",
   "execution_count": 2,
   "metadata": {},
   "outputs": [
    {
     "name": "stdout",
     "output_type": "stream",
     "text": [
      "['bmw', 'benz', 'audi', 'chevrolet']\n"
     ]
    }
   ],
   "source": [
    "cars = ['bmw','benz','audi','chevrolet']\n",
    "print(cars)"
   ]
  },
  {
   "cell_type": "code",
   "execution_count": 5,
   "metadata": {},
   "outputs": [
    {
     "name": "stdout",
     "output_type": "stream",
     "text": [
      "BMW\n",
      "Benz\n",
      "Audi\n",
      "Chevrolet\n"
     ]
    }
   ],
   "source": [
    "for x in cars:\n",
    "    if x == 'bmw':\n",
    "        print(x.upper())\n",
    "    else:\n",
    "        print(x.title())"
   ]
  },
  {
   "cell_type": "code",
   "execution_count": 7,
   "metadata": {},
   "outputs": [
    {
     "name": "stdout",
     "output_type": "stream",
     "text": [
      "You are eligible to vote\n"
     ]
    }
   ],
   "source": [
    "#req : eligible age to vote\n",
    "age = 19\n",
    "\n",
    "if age >=18:\n",
    "    print('You are eligible to vote')\n",
    "else :\n",
    "    print('You are too young to vote')"
   ]
  },
  {
   "cell_type": "code",
   "execution_count": 11,
   "metadata": {},
   "outputs": [
    {
     "name": "stdout",
     "output_type": "stream",
     "text": [
      "Rs.10 per ticket\n"
     ]
    }
   ],
   "source": [
    "#req : ticket amount based on age \n",
    "age = 14\n",
    "\n",
    "if age <4:\n",
    "    print('Free to Enter ')\n",
    "elif age < 15:\n",
    "    print('Rs.10 per ticket')\n",
    "else :\n",
    "    print('Rs.20 per ticker')"
   ]
  },
  {
   "cell_type": "code",
   "execution_count": 13,
   "metadata": {},
   "outputs": [
    {
     "name": "stdout",
     "output_type": "stream",
     "text": [
      "Tell me something,i will repeat it syed\n",
      " syed\n"
     ]
    }
   ],
   "source": [
    "#Introduction to user acceptance Input \n",
    "message = input('Tell me something,i will repeat it')\n",
    "print(message)"
   ]
  },
  {
   "cell_type": "code",
   "execution_count": 15,
   "metadata": {},
   "outputs": [
    {
     "name": "stdout",
     "output_type": "stream",
     "text": [
      "Enter your namesyed yusuf\n",
      "\n",
      " Hello Syed Yusuf . Welcome !!\n"
     ]
    }
   ],
   "source": [
    "#enhance with f strings \n",
    "message = input(\"Enter your name\")\n",
    "print(f\"\\n Hello {message.title()} . Welcome !!\")"
   ]
  },
  {
   "cell_type": "code",
   "execution_count": 16,
   "metadata": {},
   "outputs": [],
   "source": [
    "#enhancement of the code - something like string builder "
   ]
  },
  {
   "cell_type": "code",
   "execution_count": 21,
   "metadata": {},
   "outputs": [
    {
     "name": "stdout",
     "output_type": "stream",
     "text": [
      "If you tell us your info , we can customize your message\n",
      " What is your firstname      syed\n",
      "\n",
      " Hello SYED. Welcome !!!!!\n"
     ]
    }
   ],
   "source": [
    "prompt = \"If you tell us your info , we can customize your message\"\n",
    "prompt +=\"\\n What is your firstname\"\n",
    "name = input(prompt)\n",
    "print(f\"\\n Hello {name.upper().lstrip()}. Welcome !!!!!\")\n"
   ]
  },
  {
   "cell_type": "code",
   "execution_count": null,
   "metadata": {},
   "outputs": [],
   "source": []
  },
  {
   "cell_type": "code",
   "execution_count": null,
   "metadata": {},
   "outputs": [],
   "source": []
  }
 ],
 "metadata": {
  "kernelspec": {
   "display_name": "Python 3",
   "language": "python",
   "name": "python3"
  },
  "language_info": {
   "codemirror_mode": {
    "name": "ipython",
    "version": 3
   },
   "file_extension": ".py",
   "mimetype": "text/x-python",
   "name": "python",
   "nbconvert_exporter": "python",
   "pygments_lexer": "ipython3",
   "version": "3.8.5"
  }
 },
 "nbformat": 4,
 "nbformat_minor": 4
}
