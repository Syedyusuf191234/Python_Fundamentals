{
 "cells": [
  {
   "cell_type": "code",
   "execution_count": 1,
   "metadata": {},
   "outputs": [],
   "source": [
    "#continuation of dictionary data type "
   ]
  },
  {
   "cell_type": "code",
   "execution_count": 2,
   "metadata": {},
   "outputs": [
    {
     "name": "stdout",
     "output_type": "stream",
     "text": [
      "{'color': 'green', 'points': 50}\n"
     ]
    }
   ],
   "source": [
    "alien={'color':'green','points':50}\n",
    "print(alien)"
   ]
  },
  {
   "cell_type": "code",
   "execution_count": 4,
   "metadata": {},
   "outputs": [
    {
     "name": "stdout",
     "output_type": "stream",
     "text": [
      "{'color': 'green', 'points': 50, 'start_postion': 0, 'current_position': 15}\n"
     ]
    }
   ],
   "source": [
    "#req : add a new key to the above existing dictionary \n",
    "alien['start_postion']=0\n",
    "alien['current_position']=15 \n",
    "print(alien)"
   ]
  },
  {
   "cell_type": "code",
   "execution_count": 5,
   "metadata": {},
   "outputs": [
    {
     "name": "stdout",
     "output_type": "stream",
     "text": [
      "{'color': 'yellow', 'points': 50, 'start_postion': 0, 'current_position': 15}\n"
     ]
    }
   ],
   "source": [
    "#reg modify the color in the dictionary - Eg of Mutable \n",
    "alien['color']='yellow'\n",
    "print(alien)"
   ]
  },
  {
   "cell_type": "code",
   "execution_count": 6,
   "metadata": {},
   "outputs": [],
   "source": [
    "#Implementation of For loop for Dictionary "
   ]
  },
  {
   "cell_type": "code",
   "execution_count": 10,
   "metadata": {},
   "outputs": [
    {
     "name": "stdout",
     "output_type": "stream",
     "text": [
      "color\n",
      "yellow\n",
      "points\n",
      "50\n",
      "start_postion\n",
      "0\n",
      "current_position\n",
      "15\n"
     ]
    }
   ],
   "source": [
    "for k,v in alien.items():\n",
    "    print(k)\n",
    "    print(v)"
   ]
  },
  {
   "cell_type": "code",
   "execution_count": 12,
   "metadata": {},
   "outputs": [
    {
     "name": "stdout",
     "output_type": "stream",
     "text": [
      "keys -color\n",
      "Values - yellow\n",
      "\n",
      "keys -points\n",
      "Values - 50\n",
      "\n",
      "keys -start_postion\n",
      "Values - 0\n",
      "\n",
      "keys -current_position\n",
      "Values - 15\n",
      "\n"
     ]
    }
   ],
   "source": [
    "#Enhancing above code with text and f strings and New line delimeter\n",
    "for k,v in alien.items():\n",
    "    print(f\"keys -{k}\")\n",
    "    print(f\"Values - {v}\\n\")"
   ]
  },
  {
   "cell_type": "code",
   "execution_count": 13,
   "metadata": {},
   "outputs": [
    {
     "name": "stdout",
     "output_type": "stream",
     "text": [
      "keys -color\n",
      "keys -points\n",
      "keys -start_postion\n",
      "keys -current_position\n"
     ]
    }
   ],
   "source": [
    "#Iterate using only the keys - using keys as extension\n",
    "for k in alien.keys():\n",
    "    print(f\"keys -{k}\")"
   ]
  },
  {
   "cell_type": "code",
   "execution_count": 14,
   "metadata": {},
   "outputs": [
    {
     "name": "stdout",
     "output_type": "stream",
     "text": [
      "values -yellow\n",
      "values -50\n",
      "values -0\n",
      "values -15\n"
     ]
    }
   ],
   "source": [
    "#Iterate using only the values - using the Values as extension \n",
    "for k in alien.values():\n",
    "    print(f\"values -{k}\")"
   ]
  },
  {
   "cell_type": "code",
   "execution_count": null,
   "metadata": {},
   "outputs": [],
   "source": []
  }
 ],
 "metadata": {
  "kernelspec": {
   "display_name": "Python 3",
   "language": "python",
   "name": "python3"
  },
  "language_info": {
   "codemirror_mode": {
    "name": "ipython",
    "version": 3
   },
   "file_extension": ".py",
   "mimetype": "text/x-python",
   "name": "python",
   "nbconvert_exporter": "python",
   "pygments_lexer": "ipython3",
   "version": "3.8.5"
  }
 },
 "nbformat": 4,
 "nbformat_minor": 4
}
