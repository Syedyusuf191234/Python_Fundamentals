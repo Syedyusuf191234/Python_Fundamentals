{
 "cells": [
  {
   "cell_type": "code",
   "execution_count": 2,
   "metadata": {},
   "outputs": [
    {
     "name": "stdout",
     "output_type": "stream",
     "text": [
      "['shafi', 'akshay', 'ibrahim', 'kavya', 'swetha']\n"
     ]
    }
   ],
   "source": [
    "#use place holder for array\n",
    "students = ['shafi','akshay','ibrahim','kavya','swetha']\n",
    "print(students)"
   ]
  },
  {
   "cell_type": "code",
   "execution_count": 4,
   "metadata": {},
   "outputs": [
    {
     "name": "stdout",
     "output_type": "stream",
     "text": [
      "keep up the goodwrok shafi \n"
     ]
    }
   ],
   "source": [
    "#req: i want to appreciate all the students in the list \n",
    "print(f\"keep up the goodwork {students[0]} \")"
   ]
  },
  {
   "cell_type": "code",
   "execution_count": 5,
   "metadata": {},
   "outputs": [],
   "source": [
    "#Introduction to for Loops "
   ]
  },
  {
   "cell_type": "code",
   "execution_count": 21,
   "metadata": {},
   "outputs": [
    {
     "name": "stdout",
     "output_type": "stream",
     "text": [
      "Keep up the goodwork Shafi\n",
      "Keep up the goodwork Akshay\n",
      "Keep up the goodwork Ibrahim\n",
      "Keep up the goodwork Kavya\n",
      "Keep up the goodwork Swetha\n"
     ]
    }
   ],
   "source": [
    "#appreciate all students in the list\n",
    "for x in students:\n",
    "    print(f\"Keep up the goodwork {x.title()}\")"
   ]
  },
  {
   "cell_type": "code",
   "execution_count": 17,
   "metadata": {},
   "outputs": [
    {
     "name": "stdout",
     "output_type": "stream",
     "text": [
      "Keep up the goodwork Shafi\n",
      "I am looking forward to receive the files from you Shafi.\n",
      "\n",
      "Keep up the goodwork Akshay\n",
      "I am looking forward to receive the files from you Akshay.\n",
      "\n",
      "Keep up the goodwork Ibrahim\n",
      "I am looking forward to receive the files from you Ibrahim.\n",
      "\n",
      "Keep up the goodwork Kavya\n",
      "I am looking forward to receive the files from you Kavya.\n",
      "\n",
      "Keep up the goodwork Swetha\n",
      "I am looking forward to receive the files from you Swetha.\n",
      "\n"
     ]
    }
   ],
   "source": [
    "for x in students:\n",
    "    print(f\"Keep up the goodwork {x.title()}\")\n",
    "    print(f\"I am looking forward to receive the files from you {x.title()}.\\n\")"
   ]
  },
  {
   "cell_type": "code",
   "execution_count": 20,
   "metadata": {},
   "outputs": [
    {
     "name": "stdout",
     "output_type": "stream",
     "text": [
      "Keep up the goodwork Shafi\n",
      "I am looking forward to receive the files from you Shafi.\n",
      "\n",
      "Keep up the goodwork Akshay\n",
      "I am looking forward to receive the files from you Akshay.\n",
      "\n",
      "Keep up the goodwork Ibrahim\n",
      "I am looking forward to receive the files from you Ibrahim.\n",
      "\n",
      "Keep up the goodwork Kavya\n",
      "I am looking forward to receive the files from you Kavya.\n",
      "\n",
      "Keep up the goodwork Swetha\n",
      "I am looking forward to receive the files from you Swetha.\n",
      "\n",
      "Thank you for showing interest in learning python\n"
     ]
    }
   ],
   "source": [
    "#Writing out of loop\n",
    "for x in students:\n",
    "    print(f\"Keep up the goodwork {x.title()}\")\n",
    "    print(f\"I am looking forward to receive the files from you {x.title()}.\\n\")\n",
    "    \n",
    "print('Thank you for showing interest in learning python')"
   ]
  },
  {
   "cell_type": "code",
   "execution_count": null,
   "metadata": {},
   "outputs": [],
   "source": []
  }
 ],
 "metadata": {
  "kernelspec": {
   "display_name": "Python 3",
   "language": "python",
   "name": "python3"
  },
  "language_info": {
   "codemirror_mode": {
    "name": "ipython",
    "version": 3
   },
   "file_extension": ".py",
   "mimetype": "text/x-python",
   "name": "python",
   "nbconvert_exporter": "python",
   "pygments_lexer": "ipython3",
   "version": "3.8.5"
  }
 },
 "nbformat": 4,
 "nbformat_minor": 4
}
